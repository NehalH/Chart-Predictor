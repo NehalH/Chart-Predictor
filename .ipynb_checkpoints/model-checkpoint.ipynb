{
 "cells": [
  {
   "cell_type": "code",
   "execution_count": 19,
   "id": "9eb46997-5de5-4d48-a203-9519d08d589f",
   "metadata": {},
   "outputs": [],
   "source": [
    "import yfinance as yf\n",
    "import pandas as pd\n",
    "import os"
   ]
  },
  {
   "cell_type": "code",
   "execution_count": 20,
   "id": "dab811a0-8967-450a-af33-7df62bb83548",
   "metadata": {},
   "outputs": [],
   "source": [
    "if os.path.exists(\"nifty50.csv\"):\n",
    "    nifty50 = pd.read_csv(\"nifty50.csv\", index_col=0)\n",
    "else:\n",
    "    nifty50 = yf.Ticker(\"^NSEI\")\n",
    "    nifty50 = nifty50.history(period=\"max\")\n",
    "    nifty50.to_csv(\"nifty50.csv\")"
   ]
  },
  {
   "cell_type": "code",
   "execution_count": 21,
   "id": "00e1a24b-ca27-4918-a1c7-e60d7c602b2c",
   "metadata": {},
   "outputs": [],
   "source": [
    "nifty50.index = pd.to_datetime(nifty50.index)"
   ]
  },
  {
   "cell_type": "code",
   "execution_count": 22,
   "id": "8e33fa3f-9381-4d96-a2b2-9c82e39f3260",
   "metadata": {
    "scrolled": true
   },
   "outputs": [
    {
     "data": {
      "text/html": [
       "<div>\n",
       "<style scoped>\n",
       "    .dataframe tbody tr th:only-of-type {\n",
       "        vertical-align: middle;\n",
       "    }\n",
       "\n",
       "    .dataframe tbody tr th {\n",
       "        vertical-align: top;\n",
       "    }\n",
       "\n",
       "    .dataframe thead th {\n",
       "        text-align: right;\n",
       "    }\n",
       "</style>\n",
       "<table border=\"1\" class=\"dataframe\">\n",
       "  <thead>\n",
       "    <tr style=\"text-align: right;\">\n",
       "      <th></th>\n",
       "      <th>Open</th>\n",
       "      <th>High</th>\n",
       "      <th>Low</th>\n",
       "      <th>Close</th>\n",
       "      <th>Volume</th>\n",
       "      <th>Dividends</th>\n",
       "      <th>Stock Splits</th>\n",
       "    </tr>\n",
       "    <tr>\n",
       "      <th>Date</th>\n",
       "      <th></th>\n",
       "      <th></th>\n",
       "      <th></th>\n",
       "      <th></th>\n",
       "      <th></th>\n",
       "      <th></th>\n",
       "      <th></th>\n",
       "    </tr>\n",
       "  </thead>\n",
       "  <tbody>\n",
       "    <tr>\n",
       "      <th>2007-09-17 00:00:00+05:30</th>\n",
       "      <td>4518.450195</td>\n",
       "      <td>4549.049805</td>\n",
       "      <td>4482.850098</td>\n",
       "      <td>4494.649902</td>\n",
       "      <td>0</td>\n",
       "      <td>0.0</td>\n",
       "      <td>0.0</td>\n",
       "    </tr>\n",
       "    <tr>\n",
       "      <th>2007-09-18 00:00:00+05:30</th>\n",
       "      <td>4494.100098</td>\n",
       "      <td>4551.799805</td>\n",
       "      <td>4481.549805</td>\n",
       "      <td>4546.200195</td>\n",
       "      <td>0</td>\n",
       "      <td>0.0</td>\n",
       "      <td>0.0</td>\n",
       "    </tr>\n",
       "    <tr>\n",
       "      <th>2007-09-19 00:00:00+05:30</th>\n",
       "      <td>4550.250000</td>\n",
       "      <td>4739.000000</td>\n",
       "      <td>4550.250000</td>\n",
       "      <td>4732.350098</td>\n",
       "      <td>0</td>\n",
       "      <td>0.0</td>\n",
       "      <td>0.0</td>\n",
       "    </tr>\n",
       "    <tr>\n",
       "      <th>2007-09-20 00:00:00+05:30</th>\n",
       "      <td>4734.850098</td>\n",
       "      <td>4760.850098</td>\n",
       "      <td>4721.149902</td>\n",
       "      <td>4747.549805</td>\n",
       "      <td>0</td>\n",
       "      <td>0.0</td>\n",
       "      <td>0.0</td>\n",
       "    </tr>\n",
       "    <tr>\n",
       "      <th>2007-09-21 00:00:00+05:30</th>\n",
       "      <td>4752.950195</td>\n",
       "      <td>4855.700195</td>\n",
       "      <td>4733.700195</td>\n",
       "      <td>4837.549805</td>\n",
       "      <td>0</td>\n",
       "      <td>0.0</td>\n",
       "      <td>0.0</td>\n",
       "    </tr>\n",
       "    <tr>\n",
       "      <th>...</th>\n",
       "      <td>...</td>\n",
       "      <td>...</td>\n",
       "      <td>...</td>\n",
       "      <td>...</td>\n",
       "      <td>...</td>\n",
       "      <td>...</td>\n",
       "      <td>...</td>\n",
       "    </tr>\n",
       "    <tr>\n",
       "      <th>2023-09-29 00:00:00+05:30</th>\n",
       "      <td>19581.199219</td>\n",
       "      <td>19726.250000</td>\n",
       "      <td>19551.050781</td>\n",
       "      <td>19638.300781</td>\n",
       "      <td>243500</td>\n",
       "      <td>0.0</td>\n",
       "      <td>0.0</td>\n",
       "    </tr>\n",
       "    <tr>\n",
       "      <th>2023-10-03 00:00:00+05:30</th>\n",
       "      <td>19622.400391</td>\n",
       "      <td>19623.199219</td>\n",
       "      <td>19479.650391</td>\n",
       "      <td>19528.750000</td>\n",
       "      <td>221700</td>\n",
       "      <td>0.0</td>\n",
       "      <td>0.0</td>\n",
       "    </tr>\n",
       "    <tr>\n",
       "      <th>2023-10-04 00:00:00+05:30</th>\n",
       "      <td>19446.300781</td>\n",
       "      <td>19457.800781</td>\n",
       "      <td>19333.599609</td>\n",
       "      <td>19436.099609</td>\n",
       "      <td>277100</td>\n",
       "      <td>0.0</td>\n",
       "      <td>0.0</td>\n",
       "    </tr>\n",
       "    <tr>\n",
       "      <th>2023-10-05 00:00:00+05:30</th>\n",
       "      <td>19521.849609</td>\n",
       "      <td>19576.949219</td>\n",
       "      <td>19487.300781</td>\n",
       "      <td>19545.750000</td>\n",
       "      <td>234900</td>\n",
       "      <td>0.0</td>\n",
       "      <td>0.0</td>\n",
       "    </tr>\n",
       "    <tr>\n",
       "      <th>2023-10-06 00:00:00+05:30</th>\n",
       "      <td>19621.199219</td>\n",
       "      <td>19675.750000</td>\n",
       "      <td>19589.400391</td>\n",
       "      <td>19653.500000</td>\n",
       "      <td>159100</td>\n",
       "      <td>0.0</td>\n",
       "      <td>0.0</td>\n",
       "    </tr>\n",
       "  </tbody>\n",
       "</table>\n",
       "<p>3936 rows × 7 columns</p>\n",
       "</div>"
      ],
      "text/plain": [
       "                                   Open          High           Low  \\\n",
       "Date                                                                  \n",
       "2007-09-17 00:00:00+05:30   4518.450195   4549.049805   4482.850098   \n",
       "2007-09-18 00:00:00+05:30   4494.100098   4551.799805   4481.549805   \n",
       "2007-09-19 00:00:00+05:30   4550.250000   4739.000000   4550.250000   \n",
       "2007-09-20 00:00:00+05:30   4734.850098   4760.850098   4721.149902   \n",
       "2007-09-21 00:00:00+05:30   4752.950195   4855.700195   4733.700195   \n",
       "...                                 ...           ...           ...   \n",
       "2023-09-29 00:00:00+05:30  19581.199219  19726.250000  19551.050781   \n",
       "2023-10-03 00:00:00+05:30  19622.400391  19623.199219  19479.650391   \n",
       "2023-10-04 00:00:00+05:30  19446.300781  19457.800781  19333.599609   \n",
       "2023-10-05 00:00:00+05:30  19521.849609  19576.949219  19487.300781   \n",
       "2023-10-06 00:00:00+05:30  19621.199219  19675.750000  19589.400391   \n",
       "\n",
       "                                  Close  Volume  Dividends  Stock Splits  \n",
       "Date                                                                      \n",
       "2007-09-17 00:00:00+05:30   4494.649902       0        0.0           0.0  \n",
       "2007-09-18 00:00:00+05:30   4546.200195       0        0.0           0.0  \n",
       "2007-09-19 00:00:00+05:30   4732.350098       0        0.0           0.0  \n",
       "2007-09-20 00:00:00+05:30   4747.549805       0        0.0           0.0  \n",
       "2007-09-21 00:00:00+05:30   4837.549805       0        0.0           0.0  \n",
       "...                                 ...     ...        ...           ...  \n",
       "2023-09-29 00:00:00+05:30  19638.300781  243500        0.0           0.0  \n",
       "2023-10-03 00:00:00+05:30  19528.750000  221700        0.0           0.0  \n",
       "2023-10-04 00:00:00+05:30  19436.099609  277100        0.0           0.0  \n",
       "2023-10-05 00:00:00+05:30  19545.750000  234900        0.0           0.0  \n",
       "2023-10-06 00:00:00+05:30  19653.500000  159100        0.0           0.0  \n",
       "\n",
       "[3936 rows x 7 columns]"
      ]
     },
     "execution_count": 22,
     "metadata": {},
     "output_type": "execute_result"
    }
   ],
   "source": [
    "nifty50"
   ]
  },
  {
   "cell_type": "code",
   "execution_count": 23,
   "id": "6ac8e3db-a35e-450e-b925-67deff9754e1",
   "metadata": {},
   "outputs": [
    {
     "data": {
      "text/plain": [
       "<Axes: xlabel='Date'>"
      ]
     },
     "execution_count": 23,
     "metadata": {},
     "output_type": "execute_result"
    },
    {
     "data": {
      "image/png": "[encoded data removed]",
      "text/plain": [
       "<Figure size 640x480 with 1 Axes>"
      ]
     },
     "metadata": {},
     "output_type": "display_data"
    }
   ],
   "source": [
    "nifty50.plot.line(y=\"Close\", use_index=True)"
   ]
  },
  {
   "cell_type": "code",
   "execution_count": 24,
   "id": "397cd1c0-5da4-4b5c-864d-11df9b14e6c5",
   "metadata": {},
   "outputs": [],
   "source": [
    "del nifty50[\"Dividends\"]\n",
    "del nifty50[\"Stock Splits\"]"
   ]
  },
  {
   "cell_type": "code",
   "execution_count": 25,
   "id": "a9f5e623-1afd-4f7f-9b59-2337ab3df6c1",
   "metadata": {},
   "outputs": [],
   "source": [
    "nifty50[\"Tomorrow\"] = nifty50[\"Close\"].shift(-1)"
   ]
  },
  {
   "cell_type": "code",
   "execution_count": 26,
   "id": "6430fd81-9a7d-4aea-bc45-6e5a5f269aca",
   "metadata": {},
   "outputs": [],
   "source": [
    "nifty50[\"Target\"] = (nifty50[\"Tomorrow\"] > nifty50[\"Close\"]).astype(int)"
   ]
  },
  {
   "cell_type": "code",
   "execution_count": 61,
   "id": "8ac42ac4-d77c-4399-9240-576b45ad2ea5",
   "metadata": {},
   "outputs": [],
   "source": [
    "nifty50 = nifty50.loc[\"2002-01-01\":].copy()"
   ]
  },
  {
   "cell_type": "code",
   "execution_count": 62,
   "id": "e75b6d14-caea-4a86-8ebb-1b62613e2c93",
   "metadata": {},
   "outputs": [
    {
     "data": {
      "text/html": [
       "<style>#sk-container-id-7 {color: black;}#sk-container-id-7 pre{padding: 0;}#sk-container-id-7 div.sk-toggleable {background-color: white;}#sk-container-id-7 label.sk-toggleable__label {cursor: pointer;display: block;width: 100%;margin-bottom: 0;padding: 0.3em;box-sizing: border-box;text-align: center;}#sk-container-id-7 label.sk-toggleable__label-arrow:before {content: \"▸\";float: left;margin-right: 0.25em;color: #696969;}#sk-container-id-7 label.sk-toggleable__label-arrow:hover:before {color: black;}#sk-container-id-7 div.sk-estimator:hover label.sk-toggleable__label-arrow:before {color: black;}#sk-container-id-7 div.sk-toggleable__content {max-height: 0;max-width: 0;overflow: hidden;text-align: left;background-color: #f0f8ff;}#sk-container-id-7 div.sk-toggleable__content pre {margin: 0.2em;color: black;border-radius: 0.25em;background-color: #f0f8ff;}#sk-container-id-7 input.sk-toggleable__control:checked~div.sk-toggleable__content {max-height: 200px;max-width: 100%;overflow: auto;}#sk-container-id-7 input.sk-toggleable__control:checked~label.sk-toggleable__label-arrow:before {content: \"▾\";}#sk-container-id-7 div.sk-estimator input.sk-toggleable__control:checked~label.sk-toggleable__label {background-color: #d4ebff;}#sk-container-id-7 div.sk-label input.sk-toggleable__control:checked~label.sk-toggleable__label {background-color: #d4ebff;}#sk-container-id-7 input.sk-hidden--visually {border: 0;clip: rect(1px 1px 1px 1px);clip: rect(1px, 1px, 1px, 1px);height: 1px;margin: -1px;overflow: hidden;padding: 0;position: absolute;width: 1px;}#sk-container-id-7 div.sk-estimator {font-family: monospace;background-color: #f0f8ff;border: 1px dotted black;border-radius: 0.25em;box-sizing: border-box;margin-bottom: 0.5em;}#sk-container-id-7 div.sk-estimator:hover {background-color: #d4ebff;}#sk-container-id-7 div.sk-parallel-item::after {content: \"\";width: 100%;border-bottom: 1px solid gray;flex-grow: 1;}#sk-container-id-7 div.sk-label:hover label.sk-toggleable__label {background-color: #d4ebff;}#sk-container-id-7 div.sk-serial::before {content: \"\";position: absolute;border-left: 1px solid gray;box-sizing: border-box;top: 0;bottom: 0;left: 50%;z-index: 0;}#sk-container-id-7 div.sk-serial {display: flex;flex-direction: column;align-items: center;background-color: white;padding-right: 0.2em;padding-left: 0.2em;position: relative;}#sk-container-id-7 div.sk-item {position: relative;z-index: 1;}#sk-container-id-7 div.sk-parallel {display: flex;align-items: stretch;justify-content: center;background-color: white;position: relative;}#sk-container-id-7 div.sk-item::before, #sk-container-id-7 div.sk-parallel-item::before {content: \"\";position: absolute;border-left: 1px solid gray;box-sizing: border-box;top: 0;bottom: 0;left: 50%;z-index: -1;}#sk-container-id-7 div.sk-parallel-item {display: flex;flex-direction: column;z-index: 1;position: relative;background-color: white;}#sk-container-id-7 div.sk-parallel-item:first-child::after {align-self: flex-end;width: 50%;}#sk-container-id-7 div.sk-parallel-item:last-child::after {align-self: flex-start;width: 50%;}#sk-container-id-7 div.sk-parallel-item:only-child::after {width: 0;}#sk-container-id-7 div.sk-dashed-wrapped {border: 1px dashed gray;margin: 0 0.4em 0.5em 0.4em;box-sizing: border-box;padding-bottom: 0.4em;background-color: white;}#sk-container-id-7 div.sk-label label {font-family: monospace;font-weight: bold;display: inline-block;line-height: 1.2em;}#sk-container-id-7 div.sk-label-container {text-align: center;}#sk-container-id-7 div.sk-container {/* jupyter's `normalize.less` sets `[hidden] { display: none; }` but bootstrap.min.css set `[hidden] { display: none !important; }` so we also need the `!important` here to be able to override the default hidden behavior on the sphinx rendered scikit-learn.org. See: https://github.com/scikit-learn/scikit-learn/issues/21755 */display: inline-block !important;position: relative;}#sk-container-id-7 div.sk-text-repr-fallback {display: none;}</style><div id=\"sk-container-id-7\" class=\"sk-top-container\"><div class=\"sk-text-repr-fallback\"><pre>RandomForestClassifier(min_samples_split=100, random_state=1)</pre><b>In a Jupyter environment, please rerun this cell to show the HTML representation or trust the notebook. <br />On GitHub, the HTML representation is unable to render, please try loading this page with nbviewer.org.</b></div><div class=\"sk-container\" hidden><div class=\"sk-item\"><div class=\"sk-estimator sk-toggleable\"><input class=\"sk-toggleable__control sk-hidden--visually\" id=\"sk-estimator-id-7\" type=\"checkbox\" checked><label for=\"sk-estimator-id-7\" class=\"sk-toggleable__label sk-toggleable__label-arrow\">RandomForestClassifier</label><div class=\"sk-toggleable__content\"><pre>RandomForestClassifier(min_samples_split=100, random_state=1)</pre></div></div></div></div></div>"
      ],
      "text/plain": [
       "RandomForestClassifier(min_samples_split=100, random_state=1)"
      ]
     },
     "execution_count": 62,
     "metadata": {},
     "output_type": "execute_result"
    }
   ],
   "source": [
    "from sklearn.ensemble import RandomForestClassifier\n",
    "\n",
    "model = RandomForestClassifier(n_estimators=100, min_samples_split=100, random_state=1)\n",
    "\n",
    "train = nifty50.iloc[:-100]\n",
    "test = nifty50.iloc[-100:]\n",
    "\n",
    "predictors = [\"Close\", \"Volume\", \"Open\", \"High\", \"Low\"]\n",
    "model.fit(train[predictors], train[\"Target\"])"
   ]
  },
  {
   "cell_type": "code",
   "execution_count": 60,
   "id": "d9139780-f3af-43ef-9786-c6e8f49e966b",
   "metadata": {},
   "outputs": [
    {
     "name": "stderr",
     "output_type": "stream",
     "text": [
      "N:\\Box\\WorkSpace\\Projects\\Market_analyzer\\venv\\Lib\\site-packages\\sklearn\\metrics\\_classification.py:1469: UndefinedMetricWarning: Precision is ill-defined and being set to 0.0 due to no predicted samples. Use `zero_division` parameter to control this behavior.\n",
      "  _warn_prf(average, modifier, msg_start, len(result))\n"
     ]
    },
    {
     "data": {
      "text/plain": [
       "0.0"
      ]
     },
     "execution_count": 60,
     "metadata": {},
     "output_type": "execute_result"
    }
   ],
   "source": [
    "from sklearn.metrics import precision_score\n",
    "\n",
    "preds = model.predict(test[predictors])\n",
    "preds = pd.Series(preds, index=test.index)\n",
    "precision_score(test[\"Target\"], preds)"
   ]
  },
  {
   "cell_type": "code",
   "execution_count": 51,
   "id": "251aef82-84a6-46a7-bf8e-1c69042c9e97",
   "metadata": {},
   "outputs": [
    {
     "data": {
      "text/plain": [
       "<Axes: xlabel='Date'>"
      ]
     },
     "execution_count": 51,
     "metadata": {},
     "output_type": "execute_result"
    },
    {
     "data": {
      "image/png": "[encoded data removed]",
      "text/plain": [
       "<Figure size 640x480 with 1 Axes>"
      ]
     },
     "metadata": {},
     "output_type": "display_data"
    }
   ],
   "source": [
    "combined = pd.concat([test[\"Target\"], preds], axis=1)\n",
    "combined.plot()"
   ]
  },
  {
   "cell_type": "code",
   "execution_count": 31,
   "id": "18de4410-60be-48c3-8c25-250ebc1d0ae5",
   "metadata": {},
   "outputs": [],
   "source": [
    "def predict(train, test, predictors, model):\n",
    "    model.fit(train[predictors], train[\"Target\"])\n",
    "    preds = model.predict(test[predictors])\n",
    "    preds = pd.Series(preds, index=test.index, name=\"Predictions\")\n",
    "    combined = pd.concat([test[\"Target\"], preds], axis=1)\n",
    "    return combined"
   ]
  },
  {
   "cell_type": "code",
   "execution_count": 32,
   "id": "8333b75c-e6bc-453c-8467-d9592aeeb912",
   "metadata": {},
   "outputs": [],
   "source": [
    "def backtest(data, model, predictors, start=2500, step=250):\n",
    "    all_predictions = []\n",
    "\n",
    "    for i in range(start, data.shape[0], step):\n",
    "        train = data.iloc[0:i].copy()\n",
    "        test = data.iloc[i:(i+step)].copy()\n",
    "        predictions = predict(train, test, predictors, model)\n",
    "        all_predictions.append(predictions)\n",
    "    \n",
    "    return pd.concat(all_predictions)"
   ]
  },
  {
   "cell_type": "code",
   "execution_count": 33,
   "id": "cc06e83d-dbbf-44a3-a0b7-a28aef5f15b4",
   "metadata": {},
   "outputs": [],
   "source": [
    "predictions = backtest(nifty50, model, predictors)"
   ]
  },
  {
   "cell_type": "code",
   "execution_count": 34,
   "id": "0cf831c5-a4fc-458f-911a-e5377964ffc6",
   "metadata": {},
   "outputs": [
    {
     "data": {
      "text/plain": [
       "Predictions\n",
       "1    744\n",
       "0    692\n",
       "Name: count, dtype: int64"
      ]
     },
     "execution_count": 34,
     "metadata": {},
     "output_type": "execute_result"
    }
   ],
   "source": [
    "predictions[\"Predictions\"].value_counts()"
   ]
  },
  {
   "cell_type": "code",
   "execution_count": 35,
   "id": "b63b78ac-aad7-4876-a070-cf96a45170bc",
   "metadata": {},
   "outputs": [
    {
     "data": {
      "text/plain": [
       "0.5403225806451613"
      ]
     },
     "execution_count": 35,
     "metadata": {},
     "output_type": "execute_result"
    }
   ],
   "source": [
    "precision_score(predictions[\"Target\"], predictions[\"Predictions\"])"
   ]
  },
  {
   "cell_type": "code",
   "execution_count": 36,
   "id": "3512daca-5426-4959-b583-78ad1875ef32",
   "metadata": {},
   "outputs": [
    {
     "data": {
      "text/plain": [
       "Target\n",
       "1    0.545961\n",
       "0    0.454039\n",
       "Name: count, dtype: float64"
      ]
     },
     "execution_count": 36,
     "metadata": {},
     "output_type": "execute_result"
    }
   ],
   "source": [
    "predictions[\"Target\"].value_counts() / predictions.shape[0]"
   ]
  },
  {
   "cell_type": "code",
   "execution_count": 37,
   "id": "8f2f4d05-1d38-46ac-a333-8122618f3a50",
   "metadata": {},
   "outputs": [],
   "source": [
    "horizons = [2,5,60,250,1000]\n",
    "new_predictors = []\n",
    "\n",
    "for horizon in horizons:\n",
    "    rolling_averages = nifty50.rolling(horizon).mean()\n",
    "    \n",
    "    ratio_column = f\"Close_Ratio_{horizon}\"\n",
    "    nifty50[ratio_column] = nifty50[\"Close\"] / rolling_averages[\"Close\"]\n",
    "    \n",
    "    trend_column = f\"Trend_{horizon}\"\n",
    "    nifty50[trend_column] = nifty50.shift(1).rolling(horizon).sum()[\"Target\"]\n",
    "    \n",
    "    new_predictors+= [ratio_column, trend_column]"
   ]
  },
  {
   "cell_type": "code",
   "execution_count": 38,
   "id": "a43f1238-1fac-49b6-9f41-c22b4e25f5af",
   "metadata": {},
   "outputs": [],
   "source": [
    "nifty50 = nifty50.dropna(subset=nifty50.columns[nifty50.columns != \"Tomorrow\"])"
   ]
  },
  {
   "cell_type": "code",
   "execution_count": 39,
   "id": "f184ffdc-1e2d-4f82-9298-7e7400401a9c",
   "metadata": {},
   "outputs": [
    {
     "data": {
      "text/html": [
       "<div>\n",
       "<style scoped>\n",
       "    .dataframe tbody tr th:only-of-type {\n",
       "        vertical-align: middle;\n",
       "    }\n",
       "\n",
       "    .dataframe tbody tr th {\n",
       "        vertical-align: top;\n",
       "    }\n",
       "\n",
       "    .dataframe thead th {\n",
       "        text-align: right;\n",
       "    }\n",
       "</style>\n",
       "<table border=\"1\" class=\"dataframe\">\n",
       "  <thead>\n",
       "    <tr style=\"text-align: right;\">\n",
       "      <th></th>\n",
       "      <th>Open</th>\n",
       "      <th>High</th>\n",
       "      <th>Low</th>\n",
       "      <th>Close</th>\n",
       "      <th>Volume</th>\n",
       "      <th>Tomorrow</th>\n",
       "      <th>Target</th>\n",
       "      <th>Close_Ratio_2</th>\n",
       "      <th>Trend_2</th>\n",
       "      <th>Close_Ratio_5</th>\n",
       "      <th>Trend_5</th>\n",
       "      <th>Close_Ratio_60</th>\n",
       "      <th>Trend_60</th>\n",
       "      <th>Close_Ratio_250</th>\n",
       "      <th>Trend_250</th>\n",
       "      <th>Close_Ratio_1000</th>\n",
       "      <th>Trend_1000</th>\n",
       "    </tr>\n",
       "    <tr>\n",
       "      <th>Date</th>\n",
       "      <th></th>\n",
       "      <th></th>\n",
       "      <th></th>\n",
       "      <th></th>\n",
       "      <th></th>\n",
       "      <th></th>\n",
       "      <th></th>\n",
       "      <th></th>\n",
       "      <th></th>\n",
       "      <th></th>\n",
       "      <th></th>\n",
       "      <th></th>\n",
       "      <th></th>\n",
       "      <th></th>\n",
       "      <th></th>\n",
       "      <th></th>\n",
       "      <th></th>\n",
       "    </tr>\n",
       "  </thead>\n",
       "  <tbody>\n",
       "    <tr>\n",
       "      <th>2011-10-13 00:00:00+05:30</th>\n",
       "      <td>5130.799805</td>\n",
       "      <td>5136.950195</td>\n",
       "      <td>5067.649902</td>\n",
       "      <td>5077.850098</td>\n",
       "      <td>0</td>\n",
       "      <td>5132.299805</td>\n",
       "      <td>1</td>\n",
       "      <td>0.997883</td>\n",
       "      <td>1.0</td>\n",
       "      <td>1.014789</td>\n",
       "      <td>3.0</td>\n",
       "      <td>0.992330</td>\n",
       "      <td>23.0</td>\n",
       "      <td>0.911365</td>\n",
       "      <td>111.0</td>\n",
       "      <td>1.042939</td>\n",
       "      <td>510.0</td>\n",
       "    </tr>\n",
       "    <tr>\n",
       "      <th>2011-10-14 00:00:00+05:30</th>\n",
       "      <td>5057.350098</td>\n",
       "      <td>5141.399902</td>\n",
       "      <td>5056.600098</td>\n",
       "      <td>5132.299805</td>\n",
       "      <td>0</td>\n",
       "      <td>5118.250000</td>\n",
       "      <td>0</td>\n",
       "      <td>1.005333</td>\n",
       "      <td>1.0</td>\n",
       "      <td>1.015754</td>\n",
       "      <td>3.0</td>\n",
       "      <td>1.004393</td>\n",
       "      <td>24.0</td>\n",
       "      <td>0.921801</td>\n",
       "      <td>111.0</td>\n",
       "      <td>1.053995</td>\n",
       "      <td>510.0</td>\n",
       "    </tr>\n",
       "    <tr>\n",
       "      <th>2011-10-17 00:00:00+05:30</th>\n",
       "      <td>5156.200195</td>\n",
       "      <td>5160.200195</td>\n",
       "      <td>5084.500000</td>\n",
       "      <td>5118.250000</td>\n",
       "      <td>0</td>\n",
       "      <td>5037.500000</td>\n",
       "      <td>0</td>\n",
       "      <td>0.998629</td>\n",
       "      <td>1.0</td>\n",
       "      <td>1.007444</td>\n",
       "      <td>2.0</td>\n",
       "      <td>1.003264</td>\n",
       "      <td>23.0</td>\n",
       "      <td>0.919921</td>\n",
       "      <td>111.0</td>\n",
       "      <td>1.051026</td>\n",
       "      <td>509.0</td>\n",
       "    </tr>\n",
       "    <tr>\n",
       "      <th>2011-10-18 00:00:00+05:30</th>\n",
       "      <td>5049.450195</td>\n",
       "      <td>5057.500000</td>\n",
       "      <td>5011.049805</td>\n",
       "      <td>5037.500000</td>\n",
       "      <td>0</td>\n",
       "      <td>5139.149902</td>\n",
       "      <td>1</td>\n",
       "      <td>0.992049</td>\n",
       "      <td>0.0</td>\n",
       "      <td>0.989091</td>\n",
       "      <td>2.0</td>\n",
       "      <td>0.989147</td>\n",
       "      <td>23.0</td>\n",
       "      <td>0.906187</td>\n",
       "      <td>110.0</td>\n",
       "      <td>1.034383</td>\n",
       "      <td>508.0</td>\n",
       "    </tr>\n",
       "    <tr>\n",
       "      <th>2011-10-19 00:00:00+05:30</th>\n",
       "      <td>5080.450195</td>\n",
       "      <td>5148.049805</td>\n",
       "      <td>5075.299805</td>\n",
       "      <td>5139.149902</td>\n",
       "      <td>0</td>\n",
       "      <td>5091.899902</td>\n",
       "      <td>0</td>\n",
       "      <td>1.009989</td>\n",
       "      <td>1.0</td>\n",
       "      <td>1.007477</td>\n",
       "      <td>2.0</td>\n",
       "      <td>1.010438</td>\n",
       "      <td>24.0</td>\n",
       "      <td>0.925163</td>\n",
       "      <td>111.0</td>\n",
       "      <td>1.055190</td>\n",
       "      <td>508.0</td>\n",
       "    </tr>\n",
       "    <tr>\n",
       "      <th>...</th>\n",
       "      <td>...</td>\n",
       "      <td>...</td>\n",
       "      <td>...</td>\n",
       "      <td>...</td>\n",
       "      <td>...</td>\n",
       "      <td>...</td>\n",
       "      <td>...</td>\n",
       "      <td>...</td>\n",
       "      <td>...</td>\n",
       "      <td>...</td>\n",
       "      <td>...</td>\n",
       "      <td>...</td>\n",
       "      <td>...</td>\n",
       "      <td>...</td>\n",
       "      <td>...</td>\n",
       "      <td>...</td>\n",
       "      <td>...</td>\n",
       "    </tr>\n",
       "    <tr>\n",
       "      <th>2023-09-29 00:00:00+05:30</th>\n",
       "      <td>19581.199219</td>\n",
       "      <td>19726.250000</td>\n",
       "      <td>19551.050781</td>\n",
       "      <td>19638.300781</td>\n",
       "      <td>243500</td>\n",
       "      <td>19528.750000</td>\n",
       "      <td>0</td>\n",
       "      <td>1.002930</td>\n",
       "      <td>1.0</td>\n",
       "      <td>0.999735</td>\n",
       "      <td>3.0</td>\n",
       "      <td>1.001478</td>\n",
       "      <td>36.0</td>\n",
       "      <td>1.068194</td>\n",
       "      <td>143.0</td>\n",
       "      <td>1.285323</td>\n",
       "      <td>554.0</td>\n",
       "    </tr>\n",
       "    <tr>\n",
       "      <th>2023-10-03 00:00:00+05:30</th>\n",
       "      <td>19622.400391</td>\n",
       "      <td>19623.199219</td>\n",
       "      <td>19479.650391</td>\n",
       "      <td>19528.750000</td>\n",
       "      <td>221700</td>\n",
       "      <td>19436.099609</td>\n",
       "      <td>0</td>\n",
       "      <td>0.997203</td>\n",
       "      <td>1.0</td>\n",
       "      <td>0.995636</td>\n",
       "      <td>2.0</td>\n",
       "      <td>0.995865</td>\n",
       "      <td>35.0</td>\n",
       "      <td>1.061618</td>\n",
       "      <td>143.0</td>\n",
       "      <td>1.277426</td>\n",
       "      <td>553.0</td>\n",
       "    </tr>\n",
       "    <tr>\n",
       "      <th>2023-10-04 00:00:00+05:30</th>\n",
       "      <td>19446.300781</td>\n",
       "      <td>19457.800781</td>\n",
       "      <td>19333.599609</td>\n",
       "      <td>19436.099609</td>\n",
       "      <td>277100</td>\n",
       "      <td>19545.750000</td>\n",
       "      <td>1</td>\n",
       "      <td>0.997622</td>\n",
       "      <td>0.0</td>\n",
       "      <td>0.993227</td>\n",
       "      <td>2.0</td>\n",
       "      <td>0.991052</td>\n",
       "      <td>35.0</td>\n",
       "      <td>1.055980</td>\n",
       "      <td>143.0</td>\n",
       "      <td>1.270640</td>\n",
       "      <td>553.0</td>\n",
       "    </tr>\n",
       "    <tr>\n",
       "      <th>2023-10-05 00:00:00+05:30</th>\n",
       "      <td>19521.849609</td>\n",
       "      <td>19576.949219</td>\n",
       "      <td>19487.300781</td>\n",
       "      <td>19545.750000</td>\n",
       "      <td>234900</td>\n",
       "      <td>19653.500000</td>\n",
       "      <td>1</td>\n",
       "      <td>1.002813</td>\n",
       "      <td>1.0</td>\n",
       "      <td>1.000576</td>\n",
       "      <td>2.0</td>\n",
       "      <td>0.996482</td>\n",
       "      <td>35.0</td>\n",
       "      <td>1.061372</td>\n",
       "      <td>143.0</td>\n",
       "      <td>1.277118</td>\n",
       "      <td>553.0</td>\n",
       "    </tr>\n",
       "    <tr>\n",
       "      <th>2023-10-06 00:00:00+05:30</th>\n",
       "      <td>19621.199219</td>\n",
       "      <td>19675.750000</td>\n",
       "      <td>19589.400391</td>\n",
       "      <td>19653.500000</td>\n",
       "      <td>159100</td>\n",
       "      <td>NaN</td>\n",
       "      <td>0</td>\n",
       "      <td>1.002749</td>\n",
       "      <td>2.0</td>\n",
       "      <td>1.004756</td>\n",
       "      <td>3.0</td>\n",
       "      <td>1.001794</td>\n",
       "      <td>35.0</td>\n",
       "      <td>1.066583</td>\n",
       "      <td>144.0</td>\n",
       "      <td>1.283483</td>\n",
       "      <td>553.0</td>\n",
       "    </tr>\n",
       "  </tbody>\n",
       "</table>\n",
       "<p>2936 rows × 17 columns</p>\n",
       "</div>"
      ],
      "text/plain": [
       "                                   Open          High           Low  \\\n",
       "Date                                                                  \n",
       "2011-10-13 00:00:00+05:30   5130.799805   5136.950195   5067.649902   \n",
       "2011-10-14 00:00:00+05:30   5057.350098   5141.399902   5056.600098   \n",
       "2011-10-17 00:00:00+05:30   5156.200195   5160.200195   5084.500000   \n",
       "2011-10-18 00:00:00+05:30   5049.450195   5057.500000   5011.049805   \n",
       "2011-10-19 00:00:00+05:30   5080.450195   5148.049805   5075.299805   \n",
       "...                                 ...           ...           ...   \n",
       "2023-09-29 00:00:00+05:30  19581.199219  19726.250000  19551.050781   \n",
       "2023-10-03 00:00:00+05:30  19622.400391  19623.199219  19479.650391   \n",
       "2023-10-04 00:00:00+05:30  19446.300781  19457.800781  19333.599609   \n",
       "2023-10-05 00:00:00+05:30  19521.849609  19576.949219  19487.300781   \n",
       "2023-10-06 00:00:00+05:30  19621.199219  19675.750000  19589.400391   \n",
       "\n",
       "                                  Close  Volume      Tomorrow  Target  \\\n",
       "Date                                                                    \n",
       "2011-10-13 00:00:00+05:30   5077.850098       0   5132.299805       1   \n",
       "2011-10-14 00:00:00+05:30   5132.299805       0   5118.250000       0   \n",
       "2011-10-17 00:00:00+05:30   5118.250000       0   5037.500000       0   \n",
       "2011-10-18 00:00:00+05:30   5037.500000       0   5139.149902       1   \n",
       "2011-10-19 00:00:00+05:30   5139.149902       0   5091.899902       0   \n",
       "...                                 ...     ...           ...     ...   \n",
       "2023-09-29 00:00:00+05:30  19638.300781  243500  19528.750000       0   \n",
       "2023-10-03 00:00:00+05:30  19528.750000  221700  19436.099609       0   \n",
       "2023-10-04 00:00:00+05:30  19436.099609  277100  19545.750000       1   \n",
       "2023-10-05 00:00:00+05:30  19545.750000  234900  19653.500000       1   \n",
       "2023-10-06 00:00:00+05:30  19653.500000  159100           NaN       0   \n",
       "\n",
       "                           Close_Ratio_2  Trend_2  Close_Ratio_5  Trend_5  \\\n",
       "Date                                                                        \n",
       "2011-10-13 00:00:00+05:30       0.997883      1.0       1.014789      3.0   \n",
       "2011-10-14 00:00:00+05:30       1.005333      1.0       1.015754      3.0   \n",
       "2011-10-17 00:00:00+05:30       0.998629      1.0       1.007444      2.0   \n",
       "2011-10-18 00:00:00+05:30       0.992049      0.0       0.989091      2.0   \n",
       "2011-10-19 00:00:00+05:30       1.009989      1.0       1.007477      2.0   \n",
       "...                                  ...      ...            ...      ...   \n",
       "2023-09-29 00:00:00+05:30       1.002930      1.0       0.999735      3.0   \n",
       "2023-10-03 00:00:00+05:30       0.997203      1.0       0.995636      2.0   \n",
       "2023-10-04 00:00:00+05:30       0.997622      0.0       0.993227      2.0   \n",
       "2023-10-05 00:00:00+05:30       1.002813      1.0       1.000576      2.0   \n",
       "2023-10-06 00:00:00+05:30       1.002749      2.0       1.004756      3.0   \n",
       "\n",
       "                           Close_Ratio_60  Trend_60  Close_Ratio_250  \\\n",
       "Date                                                                   \n",
       "2011-10-13 00:00:00+05:30        0.992330      23.0         0.911365   \n",
       "2011-10-14 00:00:00+05:30        1.004393      24.0         0.921801   \n",
       "2011-10-17 00:00:00+05:30        1.003264      23.0         0.919921   \n",
       "2011-10-18 00:00:00+05:30        0.989147      23.0         0.906187   \n",
       "2011-10-19 00:00:00+05:30        1.010438      24.0         0.925163   \n",
       "...                                   ...       ...              ...   \n",
       "2023-09-29 00:00:00+05:30        1.001478      36.0         1.068194   \n",
       "2023-10-03 00:00:00+05:30        0.995865      35.0         1.061618   \n",
       "2023-10-04 00:00:00+05:30        0.991052      35.0         1.055980   \n",
       "2023-10-05 00:00:00+05:30        0.996482      35.0         1.061372   \n",
       "2023-10-06 00:00:00+05:30        1.001794      35.0         1.066583   \n",
       "\n",
       "                           Trend_250  Close_Ratio_1000  Trend_1000  \n",
       "Date                                                                \n",
       "2011-10-13 00:00:00+05:30      111.0          1.042939       510.0  \n",
       "2011-10-14 00:00:00+05:30      111.0          1.053995       510.0  \n",
       "2011-10-17 00:00:00+05:30      111.0          1.051026       509.0  \n",
       "2011-10-18 00:00:00+05:30      110.0          1.034383       508.0  \n",
       "2011-10-19 00:00:00+05:30      111.0          1.055190       508.0  \n",
       "...                              ...               ...         ...  \n",
       "2023-09-29 00:00:00+05:30      143.0          1.285323       554.0  \n",
       "2023-10-03 00:00:00+05:30      143.0          1.277426       553.0  \n",
       "2023-10-04 00:00:00+05:30      143.0          1.270640       553.0  \n",
       "2023-10-05 00:00:00+05:30      143.0          1.277118       553.0  \n",
       "2023-10-06 00:00:00+05:30      144.0          1.283483       553.0  \n",
       "\n",
       "[2936 rows x 17 columns]"
      ]
     },
     "execution_count": 39,
     "metadata": {},
     "output_type": "execute_result"
    }
   ],
   "source": [
    "nifty50"
   ]
  },
  {
   "cell_type": "code",
   "execution_count": 40,
   "id": "e5e08c59-5fcf-4762-b373-84071bdbef0c",
   "metadata": {},
   "outputs": [],
   "source": [
    "model = RandomForestClassifier(n_estimators=200, min_samples_split=50, random_state=1)"
   ]
  },
  {
   "cell_type": "code",
   "execution_count": 41,
   "id": "bbe9a1bd-5e48-4510-a978-b073c42d8d26",
   "metadata": {},
   "outputs": [],
   "source": [
    "def predict(train, test, predictors, model):\n",
    "    model.fit(train[predictors], train[\"Target\"])\n",
    "    preds = model.predict_proba(test[predictors])[:,1]\n",
    "    preds[preds >=.6] = 1\n",
    "    preds[preds <.6] = 0\n",
    "    preds = pd.Series(preds, index=test.index, name=\"Predictions\")\n",
    "    combined = pd.concat([test[\"Target\"], preds], axis=1)\n",
    "    return combined"
   ]
  },
  {
   "cell_type": "code",
   "execution_count": 43,
   "id": "b74839d4-be26-4a48-b765-96951b71cc01",
   "metadata": {},
   "outputs": [],
   "source": [
    "predictions = backtest(nifty50, model, new_predictors)"
   ]
  },
  {
   "cell_type": "code",
   "execution_count": 44,
   "id": "3794c101-306b-48cf-9051-83916a4949f9",
   "metadata": {},
   "outputs": [
    {
     "data": {
      "text/plain": [
       "Predictions\n",
       "0.0    397\n",
       "1.0     39\n",
       "Name: count, dtype: int64"
      ]
     },
     "execution_count": 44,
     "metadata": {},
     "output_type": "execute_result"
    }
   ],
   "source": [
    "predictions[\"Predictions\"].value_counts()"
   ]
  },
  {
   "cell_type": "code",
   "execution_count": 45,
   "id": "4f88b240-6c58-4031-82cb-9385713ce5ca",
   "metadata": {},
   "outputs": [
    {
     "data": {
      "text/plain": [
       "0.6153846153846154"
      ]
     },
     "execution_count": 45,
     "metadata": {},
     "output_type": "execute_result"
    }
   ],
   "source": [
    "precision_score(predictions[\"Target\"], predictions[\"Predictions\"])"
   ]
  },
  {
   "cell_type": "code",
   "execution_count": 46,
   "id": "305913e7-93e9-4f74-bf11-dec6d017e9fd",
   "metadata": {},
   "outputs": [
    {
     "data": {
      "text/plain": [
       "Target\n",
       "1    0.527523\n",
       "0    0.472477\n",
       "Name: count, dtype: float64"
      ]
     },
     "execution_count": 46,
     "metadata": {},
     "output_type": "execute_result"
    }
   ],
   "source": [
    "predictions[\"Target\"].value_counts() / predictions.shape[0]"
   ]
  },
  {
   "cell_type": "code",
   "execution_count": 47,
   "id": "d5b889b6-7496-4d8e-aee5-126f4b3f57cc",
   "metadata": {},
   "outputs": [
    {
     "data": {
      "text/html": [
       "<div>\n",
       "<style scoped>\n",
       "    .dataframe tbody tr th:only-of-type {\n",
       "        vertical-align: middle;\n",
       "    }\n",
       "\n",
       "    .dataframe tbody tr th {\n",
       "        vertical-align: top;\n",
       "    }\n",
       "\n",
       "    .dataframe thead th {\n",
       "        text-align: right;\n",
       "    }\n",
       "</style>\n",
       "<table border=\"1\" class=\"dataframe\">\n",
       "  <thead>\n",
       "    <tr style=\"text-align: right;\">\n",
       "      <th></th>\n",
       "      <th>Target</th>\n",
       "      <th>Predictions</th>\n",
       "    </tr>\n",
       "    <tr>\n",
       "      <th>Date</th>\n",
       "      <th></th>\n",
       "      <th></th>\n",
       "    </tr>\n",
       "  </thead>\n",
       "  <tbody>\n",
       "    <tr>\n",
       "      <th>2022-01-04 00:00:00+05:30</th>\n",
       "      <td>1</td>\n",
       "      <td>0.0</td>\n",
       "    </tr>\n",
       "    <tr>\n",
       "      <th>2022-01-05 00:00:00+05:30</th>\n",
       "      <td>0</td>\n",
       "      <td>0.0</td>\n",
       "    </tr>\n",
       "    <tr>\n",
       "      <th>2022-01-06 00:00:00+05:30</th>\n",
       "      <td>1</td>\n",
       "      <td>0.0</td>\n",
       "    </tr>\n",
       "    <tr>\n",
       "      <th>2022-01-07 00:00:00+05:30</th>\n",
       "      <td>1</td>\n",
       "      <td>0.0</td>\n",
       "    </tr>\n",
       "    <tr>\n",
       "      <th>2022-01-10 00:00:00+05:30</th>\n",
       "      <td>1</td>\n",
       "      <td>1.0</td>\n",
       "    </tr>\n",
       "    <tr>\n",
       "      <th>...</th>\n",
       "      <td>...</td>\n",
       "      <td>...</td>\n",
       "    </tr>\n",
       "    <tr>\n",
       "      <th>2023-09-29 00:00:00+05:30</th>\n",
       "      <td>0</td>\n",
       "      <td>0.0</td>\n",
       "    </tr>\n",
       "    <tr>\n",
       "      <th>2023-10-03 00:00:00+05:30</th>\n",
       "      <td>0</td>\n",
       "      <td>0.0</td>\n",
       "    </tr>\n",
       "    <tr>\n",
       "      <th>2023-10-04 00:00:00+05:30</th>\n",
       "      <td>1</td>\n",
       "      <td>0.0</td>\n",
       "    </tr>\n",
       "    <tr>\n",
       "      <th>2023-10-05 00:00:00+05:30</th>\n",
       "      <td>1</td>\n",
       "      <td>0.0</td>\n",
       "    </tr>\n",
       "    <tr>\n",
       "      <th>2023-10-06 00:00:00+05:30</th>\n",
       "      <td>0</td>\n",
       "      <td>0.0</td>\n",
       "    </tr>\n",
       "  </tbody>\n",
       "</table>\n",
       "<p>436 rows × 2 columns</p>\n",
       "</div>"
      ],
      "text/plain": [
       "                           Target  Predictions\n",
       "Date                                          \n",
       "2022-01-04 00:00:00+05:30       1          0.0\n",
       "2022-01-05 00:00:00+05:30       0          0.0\n",
       "2022-01-06 00:00:00+05:30       1          0.0\n",
       "2022-01-07 00:00:00+05:30       1          0.0\n",
       "2022-01-10 00:00:00+05:30       1          1.0\n",
       "...                           ...          ...\n",
       "2023-09-29 00:00:00+05:30       0          0.0\n",
       "2023-10-03 00:00:00+05:30       0          0.0\n",
       "2023-10-04 00:00:00+05:30       1          0.0\n",
       "2023-10-05 00:00:00+05:30       1          0.0\n",
       "2023-10-06 00:00:00+05:30       0          0.0\n",
       "\n",
       "[436 rows x 2 columns]"
      ]
     },
     "execution_count": 47,
     "metadata": {},
     "output_type": "execute_result"
    }
   ],
   "source": [
    "predictions"
   ]
  },
  {
   "cell_type": "code",
   "execution_count": null,
   "id": "5408e105-7c28-4c1f-bcc8-61a24a213fd1",
   "metadata": {},
   "outputs": [],
   "source": []
  }
 ],
 "metadata": {
  "kernelspec": {
   "display_name": "venv",
   "language": "python",
   "name": "venv"
  },
  "language_info": {
   "codemirror_mode": {
    "name": "ipython",
    "version": 3
   },
   "file_extension": ".py",
   "mimetype": "text/x-python",
   "name": "python",
   "nbconvert_exporter": "python",
   "pygments_lexer": "ipython3",
   "version": "3.11.4"
  }
 },
 "nbformat": 4,
 "nbformat_minor": 5
}
